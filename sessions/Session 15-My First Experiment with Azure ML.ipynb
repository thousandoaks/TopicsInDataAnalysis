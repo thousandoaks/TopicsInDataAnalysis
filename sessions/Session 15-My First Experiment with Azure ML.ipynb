{
 "cells": [
  {
   "cell_type": "code",
   "execution_count": 5,
   "id": "b232f0aa",
   "metadata": {},
   "outputs": [],
   "source": [
    "import azureml.core\n",
    "from azureml.core import Workspace, Experiment\n",
    "import pandas as pd"
   ]
  },
  {
   "cell_type": "code",
   "execution_count": 2,
   "id": "3f429655",
   "metadata": {},
   "outputs": [
    {
     "name": "stdout",
     "output_type": "stream",
     "text": [
      "Ready to use Azure ML 1.38.0 to work with workspacesession15v2\n"
     ]
    }
   ],
   "source": [
    "\n",
    "\n",
    "\n",
    "# Load the workspace from the saved config file\n",
    "ws = Workspace.from_config()\n",
    "print('Ready to use Azure ML {} to work with {}'.format(azureml.core.VERSION, ws.name))"
   ]
  },
  {
   "cell_type": "code",
   "execution_count": null,
   "id": "da5a7025",
   "metadata": {},
   "outputs": [],
   "source": []
  },
  {
   "cell_type": "markdown",
   "id": "57b76a3f",
   "metadata": {},
   "source": [
    "## Let's create the simplest experiment ever !!"
   ]
  },
  {
   "cell_type": "code",
   "execution_count": 6,
   "id": "577ad13d",
   "metadata": {},
   "outputs": [],
   "source": [
    "\n",
    "\n",
    "# create an experiment variable\n",
    "experiment = Experiment(workspace = ws, name = \"session15Experiment_v0\")\n",
    "\n",
    "# start the experiment\n",
    "run = experiment.start_logging()\n",
    "\n",
    "# experiment code goes here\n",
    "\n",
    "# end the experiment\n",
    "run.complete()"
   ]
  },
  {
   "cell_type": "code",
   "execution_count": null,
   "id": "bfe78e55",
   "metadata": {},
   "outputs": [],
   "source": []
  },
  {
   "cell_type": "markdown",
   "id": "3905ee9b",
   "metadata": {},
   "source": [
    "## Let's create another extremely simple experiment !\n",
    "### We load a dataset, count the datapoints and have it logged on Azure"
   ]
  },
  {
   "cell_type": "code",
   "execution_count": 8,
   "id": "29dd71aa",
   "metadata": {},
   "outputs": [],
   "source": [
    "# Create an Azure ML experiment in your workspace\n",
    "experiment = Experiment(workspace = ws, name = 'session15Experiment_v1')\n",
    "\n",
    "# Start logging data from the experiment\n",
    "run = experiment.start_logging()\n",
    "\n",
    "# load the dataset and count the rows\n",
    "data = pd.read_csv('https://raw.githubusercontent.com/MicrosoftLearning/mslearn-dp100/main/data/diabetes.csv')\n",
    "row_count = (len(data))\n",
    "\n",
    "\n",
    "# Log the row count\n",
    "run.log('datapoints', row_count)\n",
    "\n",
    "# Complete the experiment\n",
    "run.complete()"
   ]
  },
  {
   "cell_type": "code",
   "execution_count": 10,
   "id": "9723d372",
   "metadata": {},
   "outputs": [
    {
     "data": {
      "text/plain": [
       "10000"
      ]
     },
     "execution_count": 10,
     "metadata": {},
     "output_type": "execute_result"
    }
   ],
   "source": [
    "row_count"
   ]
  },
  {
   "cell_type": "code",
   "execution_count": null,
   "id": "bfa6b612",
   "metadata": {},
   "outputs": [],
   "source": []
  },
  {
   "cell_type": "markdown",
   "id": "09649897",
   "metadata": {},
   "source": [
    "## Let's create another extremely simple experiment !\n",
    "### We load a dataset, count the datapoints, count the number of features and have it logged on Azure"
   ]
  },
  {
   "cell_type": "code",
   "execution_count": null,
   "id": "ab7ad19f",
   "metadata": {},
   "outputs": [],
   "source": []
  },
  {
   "cell_type": "code",
   "execution_count": 9,
   "id": "28879148",
   "metadata": {},
   "outputs": [],
   "source": [
    "# Create an Azure ML experiment in your workspace\n",
    "experiment = Experiment(workspace = ws, name = 'session15Experiment_v2')\n",
    "\n",
    "# Start logging data from the experiment\n",
    "run = experiment.start_logging()\n",
    "\n",
    "# load the dataset and count the rows\n",
    "data = pd.read_csv('https://raw.githubusercontent.com/MicrosoftLearning/mslearn-dp100/main/data/diabetes.csv')\n",
    "row_count = (len(data))\n",
    "columns_count=len(data.columns)\n",
    "\n",
    "# Log the row count\n",
    "run.log('datapoints', row_count)\n",
    "run.log('features', columns_count)\n",
    "\n",
    "# Complete the experiment\n",
    "run.complete()"
   ]
  },
  {
   "cell_type": "code",
   "execution_count": null,
   "id": "33b6b055",
   "metadata": {},
   "outputs": [],
   "source": []
  },
  {
   "cell_type": "code",
   "execution_count": null,
   "id": "1c692851",
   "metadata": {},
   "outputs": [],
   "source": []
  },
  {
   "cell_type": "markdown",
   "id": "7bf96d7c",
   "metadata": {},
   "source": [
    "## We can observe the output on Azure Experiments\n",
    "### Refer to the experiments section in Azure Machine Learning Studio"
   ]
  },
  {
   "cell_type": "markdown",
   "id": "9b12f9f5",
   "metadata": {},
   "source": [
    "## And also via API"
   ]
  },
  {
   "cell_type": "code",
   "execution_count": 10,
   "id": "6baf8d2d",
   "metadata": {},
   "outputs": [
    {
     "data": {
      "application/vnd.jupyter.widget-view+json": {
       "model_id": "8518bf946e5f4a8588b3698203385fc1",
       "version_major": 2,
       "version_minor": 0
      },
      "text/plain": [
       "_UserRunWidget(widget_settings={'childWidgetDisplay': 'popup', 'send_telemetry': False, 'log_level': 'INFO', '…"
      ]
     },
     "metadata": {},
     "output_type": "display_data"
    },
    {
     "data": {
      "application/aml.mini.widget.v1": "{\"status\": \"Completed\", \"workbench_run_details_uri\": \"https://ml.azure.com/runs/3f05ad2d-649d-4869-82d4-1f5643a11616?wsid=/subscriptions/17ed2092-9d59-4bde-be0e-18e04a8ef316/resourcegroups/resourcegroupsession15v2/workspaces/workspacesession15v2&tid=7b345f98-7531-4f8b-b8ec-18e626c7d12e\", \"run_id\": \"3f05ad2d-649d-4869-82d4-1f5643a11616\", \"run_properties\": {\"run_id\": \"3f05ad2d-649d-4869-82d4-1f5643a11616\", \"created_utc\": \"2022-02-21T11:43:20.413468Z\", \"properties\": {\"ContentSnapshotId\": \"953626d7-cdf3-44f7-864d-e608d1e23229\"}, \"tags\": {}, \"end_time_utc\": \"2022-02-21T11:43:29.763547Z\", \"status\": \"Completed\", \"log_files\": {}, \"log_groups\": [], \"run_duration\": \"0:00:09\", \"run_number\": \"1645443800\", \"run_queued_details\": {\"status\": \"Completed\", \"details\": null}}, \"child_runs\": [], \"children_metrics\": {}, \"run_metrics\": [{\"name\": \"datapoints\", \"run_id\": \"3f05ad2d-649d-4869-82d4-1f5643a11616\", \"categories\": [0], \"series\": [{\"data\": [10000]}]}, {\"name\": \"features\", \"run_id\": \"3f05ad2d-649d-4869-82d4-1f5643a11616\", \"categories\": [0], \"series\": [{\"data\": [10]}]}], \"run_logs\": \"\\nRun is completed.\", \"graph\": {}, \"widget_settings\": {\"childWidgetDisplay\": \"popup\", \"send_telemetry\": false, \"log_level\": \"INFO\", \"sdk_version\": \"1.38.0\"}, \"loading\": false}"
     },
     "metadata": {},
     "output_type": "display_data"
    }
   ],
   "source": [
    "from azureml.widgets import RunDetails\n",
    "\n",
    "RunDetails(run).show()"
   ]
  },
  {
   "cell_type": "code",
   "execution_count": 11,
   "id": "e7a8c014",
   "metadata": {},
   "outputs": [
    {
     "name": "stdout",
     "output_type": "stream",
     "text": [
      "{\n",
      "  \"datapoints\": 10000,\n",
      "  \"features\": 10\n",
      "}\n"
     ]
    }
   ],
   "source": [
    "import json\n",
    "\n",
    "# Get logged metrics\n",
    "metrics = run.get_metrics()\n",
    "print(json.dumps(metrics, indent=2))"
   ]
  },
  {
   "cell_type": "code",
   "execution_count": null,
   "id": "636a62e8",
   "metadata": {},
   "outputs": [],
   "source": []
  },
  {
   "cell_type": "markdown",
   "id": "f8f3871d",
   "metadata": {},
   "source": [
    "## We can save files for future references"
   ]
  },
  {
   "cell_type": "code",
   "execution_count": 16,
   "id": "8e2e2da2",
   "metadata": {},
   "outputs": [
    {
     "data": {
      "text/plain": [
       "<azureml._restclient.models.batch_artifact_content_information_dto.BatchArtifactContentInformationDto at 0x7f823e2d2a00>"
      ]
     },
     "execution_count": 16,
     "metadata": {},
     "output_type": "execute_result"
    }
   ],
   "source": [
    "# Save a sample of the data and upload it to the experiment output\n",
    "data.sample(100).to_csv('sample.csv', index=False, header=True)\n",
    "run.upload_file(name='outputs/sample.csv', path_or_stream='./sample.csv')"
   ]
  },
  {
   "cell_type": "code",
   "execution_count": null,
   "id": "3e199288",
   "metadata": {},
   "outputs": [],
   "source": []
  }
 ],
 "metadata": {
  "kernelspec": {
   "display_name": "Python 3.8 - AzureML",
   "language": "python",
   "name": "python38-azureml"
  },
  "language_info": {
   "codemirror_mode": {
    "name": "ipython",
    "version": 3
   },
   "file_extension": ".py",
   "mimetype": "text/x-python",
   "name": "python",
   "nbconvert_exporter": "python",
   "pygments_lexer": "ipython3",
   "version": "3.8.1"
  }
 },
 "nbformat": 4,
 "nbformat_minor": 5
}
